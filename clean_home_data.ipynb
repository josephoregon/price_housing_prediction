{
 "cells": [
  {
   "cell_type": "code",
   "execution_count": 59,
   "metadata": {
    "collapsed": true
   },
   "outputs": [],
   "source": [
    "import pandas as pd\n",
    "import numpy as np\n",
    "import pickle\n",
    "import os\n",
    "import datetime\n",
    "import patsy\n",
    "import matplotlib.pyplot as plt\n",
    "% matplotlib inline\n"
   ]
  },
  {
   "cell_type": "markdown",
   "metadata": {},
   "source": [
    "First, we'll clean up Portland Maps API data and save only detached, single family homes"
   ]
  },
  {
   "cell_type": "code",
   "execution_count": 44,
   "metadata": {
    "collapsed": true
   },
   "outputs": [],
   "source": [
    "#get data\n",
    "zillow = pd.read_pickle('zillow.pkl')\n",
    "df = pd.read_pickle('home_results.pkl')"
   ]
  },
  {
   "cell_type": "code",
   "execution_count": 45,
   "metadata": {
    "collapsed": true
   },
   "outputs": [],
   "source": [
    "#only need certain zillow features\n",
    "zillow = zillow[['roof', 'exteriormaterial', 'parkingtype', 'heatingsystem', 'coolingsystem',  'architecture', 'homedescription', 'elementaryschool']]\n",
    "#merge data sets\n",
    "df = pd.concat([df, zillow], axis = 1)"
   ]
  },
  {
   "cell_type": "code",
   "execution_count": 46,
   "metadata": {
    "collapsed": true
   },
   "outputs": [],
   "source": [
    "#delete unnecessary columns - we have most of these already from the portland maps data set\n",
    "df = df[['address', 'sale_price', 'description','sale_date','property_tax_2016','lot_size', \n",
    "         'square_feet', 'main_sqft', 'zillow_bedrooms', 'plumbing', 'year_built', 'type', \n",
    "         'neighborhood',  'zillow_id', 'zillow_finished_sqft', 'zip_code', 'elementaryschool', 'segments', 'is_condo', \n",
    "        'roof', 'exteriormaterial', 'parkingtype', 'heatingsystem', 'coolingsystem', \n",
    "         'architecture','homedescription']]"
   ]
  },
  {
   "cell_type": "code",
   "execution_count": 47,
   "metadata": {
    "collapsed": true
   },
   "outputs": [],
   "source": [
    "#consider single family homes only\n",
    "df = df[df['description']=='SINGLE FAMILY RESIDENTIAL']\n",
    "del df['description']\n",
    "\n",
    "#keep only detached homes\n",
    "keep_list = ['1 STY', '1 STY W/BSMT', '1 STY W/ATTIC & BSMT', '2 OR MORE STY', '2 OR MORE STY W/BSMT', '1 STY W/ATTIC', '2 OR MORE STY W/ATTIC & BSMT', '2 OR MORE STY W/ATTIC', '']\n",
    "df = df[df['type'].isin(keep_list)]"
   ]
  },
  {
   "cell_type": "code",
   "execution_count": 48,
   "metadata": {
    "collapsed": true
   },
   "outputs": [],
   "source": [
    "#get rid of one missing row\n",
    "df = df[df['plumbing'].notnull()]\n",
    "\n",
    "#convert to correct types\n",
    "df['year_built'] = df['year_built'].astype(int)\n",
    "df['lot_size']=df['lot_size'].astype(int)\n",
    "\n",
    "df['main_sqft'] = df['main_sqft'].astype(int)\n",
    "df['segments'] = df['segments'].astype(int)\n",
    "df['is_condo'] = df['is_condo'].astype(int)\n",
    "df['zip_code'] = df['zip_code'].astype(object)\n",
    "df['zillow_id'] = df['zillow_id'].astype(object)\n",
    "\n",
    "df['property_tax_2016'] = df['property_tax_2016'].str.replace('$', '')\n",
    "df['property_tax_2016'] = df['property_tax_2016'].str.replace(',', '')\n",
    "df['property_tax_2016'] = df['property_tax_2016'].astype(float)"
   ]
  },
  {
   "cell_type": "code",
   "execution_count": 49,
   "metadata": {
    "collapsed": true
   },
   "outputs": [],
   "source": [
    "#create a flag for missing on zillow\n",
    "df['on_zillow'] = 0\n",
    "df.loc[df['zillow_id'].notnull(),'on_zillow'] = 1\n",
    "del df['zillow_id']"
   ]
  },
  {
   "cell_type": "code",
   "execution_count": 50,
   "metadata": {
    "collapsed": true
   },
   "outputs": [],
   "source": [
    "#fill in missing info\n",
    "df['neighborhood'] = df['neighborhood'].fillna('missing')\n",
    "\n",
    "bedroom_mean = int(np.mean([float(x) for x in df[df['zillow_bedrooms'].notnull()].zillow_bedrooms.values]))\n",
    "df['zillow_bedrooms'].fillna(bedroom_mean, inplace = True)\n",
    "df['zillow_bedrooms'] = df['zillow_bedrooms'].astype(int)\n",
    "\n",
    "finished_sqft_mean = int(np.mean([float(x) for x in df[df['zillow_finished_sqft'].notnull()].zillow_finished_sqft.values]))\n",
    "df['zillow_finished_sqft'].fillna(bedroom_mean, inplace = True)\n",
    "df['zillow_finished_sqft'] = df['zillow_finished_sqft'].astype(int)\n",
    "\n",
    "\n",
    "df = df[df.index.values != 1] #picture1 is corrupted so get rid of that row"
   ]
  },
  {
   "cell_type": "code",
   "execution_count": 51,
   "metadata": {
    "collapsed": true
   },
   "outputs": [],
   "source": [
    "#condense to 60 neighborhoods\n",
    "df['neighborhood'].replace('ALAMEDA/BEAUMONT-WILSHIRE', 'ALAMEDA', inplace = True)\n",
    "df['neighborhood'].replace('HEALY HEIGHTS/SOUTHWEST HILLS RESIDENTIAL LEAGUE', 'SOUTHWEST HILLS RESIDENTIAL LEAGUE', inplace = True)\n",
    "df['neighborhood'].replace('SUNDERLAND ASSOCIATION OF NEIGHBORS', 'EAST COLUMBIA', inplace = True)\n",
    "df['neighborhood'].replace('WOODLAND PARK', 'PARKROSE', inplace = True)\n",
    "df['neighborhood'].replace('ARDENWALD-JOHNSON CREEK/WOODSTOCK', 'ARDENWALD-JOHNSON CREEK', inplace = True)\n",
    "df['neighborhood'].replace('MC UNCLAIMED #5', 'GRANT PARK/HOLLYWOOD', inplace = True)\n",
    "df['neighborhood'].replace('LLOYD DISTRICT COMMUNITY ASSOCIATION', \"SULLIVAN'S GULCH\", inplace = True)\n",
    "df['neighborhood'].replace('BRIDLEMILE/SOUTHWEST HILLS RESIDENTIAL LEAGUE', \"BRIDLEMILE\", inplace = True)\n",
    "df['neighborhood'].replace('HOLLYWOOD', \"GRANT PARK/HOLLYWOOD\", inplace = True)\n",
    "df['neighborhood'].replace('ALAMEDA/IRVINGTON COMMUNITY ASSN.', 'ALAMEDA', inplace = True)\n",
    "df['neighborhood'].replace('ARDENWALD-JOHNSON CREEK', 'BRENTWOOD-DARLINGTON', inplace = True)\n",
    "df['neighborhood'].replace('SYLVAN-HIGHLANDS/SOUTHWEST HILLS RESIDENTIAL LEAGUE', 'SYLVAN-HIGHLANDS', inplace = True)\n",
    "df['neighborhood'].replace('CENTENNIAL COMMUNITY ASSN./PLEASANT VALLEY', 'CENTENNIAL COMMUNITY ASSOCIATION', inplace = True)\n",
    "df['neighborhood'].replace('SABIN COMMUNITY ASSN./IRVINGTON COMMUNITY ASSN.', 'SABIN COMMUNITY ASSOCIATION', inplace = True)\n",
    "df['neighborhood'].replace('GLENFAIR', 'CENTENNIAL COMMUNITY ASSOCIATION', inplace = True)\n",
    "df['neighborhood'].replace('GOOSE HOLLOW FOOTHILLS LEAGUE/SOUTHWEST HILLS RESIDENTIAL LEAGUE', 'GOOSE HOLLOW FOOTHILLS LEAGUE', inplace = True)\n",
    "df['neighborhood'].replace('MAYWOOD PARK', 'PARKROSE HEIGHTS', inplace = True)\n",
    "df['neighborhood'].replace('ARLINGTON HEIGHTS', 'HILLSIDE', inplace = True)\n",
    "df['neighborhood'].replace('BRIDGETON', 'EAST COLUMBIA', inplace = True)\n",
    "df['neighborhood'].replace('GRANT PARK/HOLLYWOOD', 'GRANT PARK', inplace = True)\n",
    "df['neighborhood'].replace('FOREST PARK', 'HILLSIDE', inplace = True)\n",
    "df['neighborhood'].replace('HILLSIDE/NORTHWEST DISTRICT ASSN.', 'HILLSIDE', inplace = True)\n",
    "df['neighborhood'].replace('OLD TOWN/CHINATOWN COMMUNITY ASSOCIATION', 'PORTLAND DOWNTOWN', inplace = True)\n",
    "df['neighborhood'].replace('HOMESTEAD', 'SOUTHWEST HILLS RESIDENTIAL LEAGUE', inplace = True)\n",
    "df['neighborhood'].replace('HOMESTEAD', 'SOUTHWEST HILLS RESIDENTIAL LEAGUE', inplace = True)\n",
    "df['neighborhood'].replace('LINNTON', 'ST. JOHNS', inplace = True)\n",
    "df['neighborhood'].replace('PLEASANT VALLEY/POWELLHURST-GILBERT', 'POWELLHURST-GILBERT', inplace = True)\n",
    "df['neighborhood'].replace('KERNS', 'BUCKMAN COMMUNITY ASSOCIATION', inplace = True)\n",
    "df['neighborhood'].replace('SYLVAN-HIGHLANDS', 'HILLSIDE', inplace = True)\n",
    "df['neighborhood'].replace('REED', 'CRESTON-KENILWORTH', inplace = True)\n",
    "df['neighborhood'].replace('SUMNER ASSOCIATION OF NEIGHBORS', 'EAST COLUMBIA', inplace = True)\n",
    "df['neighborhood'].replace('LENTS/POWELLHURST-GILBERT', 'POWELLHURST-GILBERT', inplace = True)\n",
    "df['neighborhood'].replace('VERNON', 'BOISE', inplace = True)\n",
    "df['neighborhood'].replace('HUMBOLDT', 'BOISE', inplace = True)\n",
    "df['neighborhood'].replace(\"ELIOT\", 'BOISE', inplace = True)\n",
    "df['neighborhood'].replace(\"SULLIVAN'S GULCH\", 'IRVINGTON COMMUNITY ASSOCIATION', inplace = True)\n",
    "df['neighborhood'].replace(\"SULLIVAN'S GULCH\", 'IRVINGTON COMMUNITY ASSOCIATION', inplace = True)\n",
    "df['neighborhood'].replace(\"RUSSELL\", 'PARKROSE', inplace = True)\n",
    "\n",
    "#replace missing neighborhoods with their zip code\n",
    "for i in df.index.values:\n",
    "    if df['neighborhood'][i] == 'missing':\n",
    "        df.loc[i, 'neighborhood'] = df['zip_code'][i]\n",
    "\n",
    "#condense some under-represented neighborhoods\n",
    "value_counts = df['neighborhood'].value_counts() # Specific column \n",
    "to_replace = value_counts[value_counts < 10].index\n",
    "df['neighborhood'].replace(to_replace, '', inplace=True)\n",
    "\n",
    "#delete zip code since we already have neighborhood and elementary school\n",
    "del df['zip_code']\n",
    "\n"
   ]
  },
  {
   "cell_type": "code",
   "execution_count": 52,
   "metadata": {
    "collapsed": true
   },
   "outputs": [],
   "source": [
    "# convert each sale date to month key\n",
    "df = df[df['sale_date'] != '2017-07-01'] #get rid of last days' sales so we have full months\n",
    "df['sale_date'] = pd.to_datetime(df['sale_date'])\n",
    "df['sale_month'] = df['sale_date'].dt.month\n",
    "df['sale_month'].astype(int)\n",
    "del df['sale_date']\n",
    "\n",
    "#we need to create a sale month key so that months that are near each other \n",
    "#are close in numeric value (since i have 7/16 - 6/17 instead of 1/16-12/16)\n",
    "df['sale_month'].replace(7, 20, inplace = True)\n",
    "df['sale_month'].replace(8, 21, inplace = True)\n",
    "df['sale_month'].replace(9, 22, inplace = True)\n",
    "df['sale_month'].replace(10, 23, inplace = True)\n",
    "df['sale_month'].replace(11, 24, inplace = True)\n",
    "df['sale_month'].replace(12, 25, inplace = True)\n",
    "df['sale_month'].replace(1, 26, inplace = True)\n",
    "df['sale_month'].replace(2, 27, inplace = True)\n",
    "df['sale_month'].replace(3, 28, inplace = True)\n",
    "df['sale_month'].replace(4, 29, inplace = True)\n",
    "df['sale_month'].replace(5, 30, inplace = True)\n",
    "df['sale_month'].replace(6, 31, inplace = True)\n",
    "df = df.rename(index=int, columns={\"sale_month\": \"sale_month_key\"})"
   ]
  },
  {
   "cell_type": "code",
   "execution_count": 53,
   "metadata": {
    "collapsed": true
   },
   "outputs": [],
   "source": [
    "#convert bathrooms to numeric values\n",
    "df['plumbing'].replace('TWO FULL BATHS', 2, inplace = True)\n",
    "df['plumbing'].replace('TWO FULL BATHS, TWO HALF BATHS', 3, inplace = True)\n",
    "df['plumbing'].replace('FIVE FULL BATHS, TWO HALF BATHS', 6, inplace = True)\n",
    "df['plumbing'].replace('SIX FULL BATHS, THREE HALF BATHS', 7.5, inplace = True)\n",
    "df['plumbing'].replace('THREE FULL BATHS, FOUR HALF BATHS', 5, inplace = True)\n",
    "df['plumbing'].replace('ONE HALF BATH', 0.5, inplace = True)\n",
    "df['plumbing'].replace('EIGHT FULL BATHS', 0.5, inplace = True)\n",
    "df['plumbing'].replace('ONE FULL BATH, ONE HALF BATH', 1.5, inplace = True)\n",
    "df['plumbing'].replace('ONE FULL BATH', 1, inplace = True)\n",
    "df['plumbing'].replace('THREE FULL BATHS, ONE HALF BATH', 3.5, inplace = True)\n",
    "df['plumbing'].replace('TEN FULL BATHS, HB', 10, inplace = True)\n",
    "df['plumbing'].replace('TWO HALF BATHS', 1, inplace = True)\n",
    "df['plumbing'].replace('THREE FULL BATHS', 3, inplace = True)\n",
    "df['plumbing'].replace('ONE HALF BATH, ONE FULL BATH', 1.5, inplace = True)\n",
    "df['plumbing'].replace('FOUR FULL BATHS, FOUR HALF BATHS', 6, inplace = True)\n",
    "df['plumbing'].replace('TWO FULL BATHS, FIVE HALF BATHS', 4.5, inplace = True)\n",
    "df['plumbing'].replace('ONE FULL BATH, TWO HALF BATHS', 2, inplace = True)\n",
    "df['plumbing'].replace('FIVE FULL BATHS, THREE HALF BATHS', 6.5, inplace = True)\n",
    "df['plumbing'].replace('THREE FULL BATHS, TWO HALF BATHS', 4, inplace = True)\n",
    "df['plumbing'].replace('FOUR FULL BATHS', 4, inplace = True)\n",
    "df['plumbing'].replace('FIVE FULL BATHS', 5, inplace = True)\n",
    "df['plumbing'].replace('TWO FULL BATHS, ONE HALF BATH', 2.5, inplace = True)\n",
    "df['plumbing'].replace('TWO FULL BATHS, THREE HALF BATHS', 3.5, inplace = True)\n",
    "df['plumbing'].replace('SIX FULL BATHS, ONE HALF BATH', 6.5, inplace = True)\n",
    "df['plumbing'].replace('ONE HALF BATH, THREE FULL BATHS', 3.5, inplace = True)\n",
    "df['plumbing'].replace('FIVE FULL BATHS, ONE HALF BATH', 5.5, inplace = True)\n",
    "df['plumbing'].replace('ONE HALF BATH, TWO FULL BATHS', 2.5, inplace = True)\n",
    "df['plumbing'].replace('FOUR FULL BATHS, TWO HALF BATHS', 5, inplace = True)\n",
    "df['plumbing'].replace('FOUR FULL BATHS, ONE HALF BATH', 4.5, inplace = True)\n",
    "df['plumbing'].replace('THREE FULL BATHS, THREE HALF BATHS', 4.5, inplace = True)\n",
    "df['plumbing'].replace('ONE FULL BATH, THREE HALF BATHS', 2.5, inplace = True)\n",
    "df['plumbing'].replace('SIX FULL BATHS, TWO HALF BATHS', 7, inplace = True)\n",
    "\n",
    "df['plumbing'] = df['plumbing'].astype(float)\n",
    "\n",
    "\n",
    "\n",
    "#condense options for various zillow descriptions\n",
    "for i in df.index.values:\n",
    "    if 'Radiant' in df['heatingsystem'][i]:\n",
    "        df.loc[i, 'heatingsystem'] = 'Radiant'\n",
    "    if 'Geothermal' in df['heatingsystem'][i]:\n",
    "        df.loc[i, 'heatingsystem'] = 'Geothermal'\n",
    "    if 'Heat pump' in df['heatingsystem'][i]:\n",
    "        df.loc[i, 'heatingsystem'] = 'Heat Pump'\n",
    "    if 'Forced air' in df['heatingsystem'][i]:\n",
    "        df.loc[i, 'heatingsystem'] = 'Forced air'\n",
    "    if 'Baseboard' in df['heatingsystem'][i]:\n",
    "        df.loc[i, 'heatingsystem'] = 'Baseboard'\n",
    "    if 'Wall' in df['heatingsystem'][i]:\n",
    "        df.loc[i, 'heatingsystem'] = 'Wall'\n",
    "    if 'Stove' in df['heatingsystem'][i]:\n",
    "        df.loc[i, 'heatingsystem'] = 'Stove'\n",
    "    if 'Other' in df['heatingsystem'][i]:\n",
    "        df.loc[i, 'heatingsystem'] = 'Other'\n",
    "        \n",
    "        \n",
    "for i in df.index.values:\n",
    "    if 'Central' in df['coolingsystem'][i]:\n",
    "        df.loc[i, 'coolingsystem'] = 'Central'\n",
    "    if 'Solar' in df['coolingsystem'][i]:\n",
    "        df.loc[i, 'coolingsystem'] = 'Solar'\n",
    "    if 'Evaporation' in df['coolingsystem'][i]:\n",
    "        df.loc[i, 'coolingsystem'] = 'Evaporation'\n",
    "    if 'Geothermal' in df['coolingsystem'][i]:\n",
    "        df.loc[i, 'coolingsystem'] = 'Geothermal'\n",
    "    if 'Refrigeration' in df['coolingsystem'][i]:\n",
    "        df.loc[i, 'coolingsystem'] = 'Refrigeration'\n",
    "    if 'Wall' in df['coolingsystem'][i]:\n",
    "        df.loc[i, 'coolingsystem'] = 'Wall'\n",
    "    if 'Other' in df['coolingsystem'][i]:\n",
    "        df.loc[i, 'coolingsystem'] = 'Other'\n",
    "        \n",
    "for i in df.index.values:\n",
    "    if 'Tile' in df['roof'][i]:\n",
    "        df.loc[i, 'roof'] = 'Tile'\n",
    "    if 'Built-up' in df['roof'][i]:\n",
    "        df.loc[i, 'roof'] = 'Built-up'\n",
    "    if 'Composition' in df['roof'][i]:\n",
    "        df.loc[i, 'roof'] = 'Composition'\n",
    "    if 'Shake / Shingle' in df['roof'][i]:\n",
    "        df.loc[i, 'roof'] = 'Shake / Shingle'\n",
    "    if 'Asphalt' in df['roof'][i]:\n",
    "        df.loc[i, 'roof'] = 'Asphalt'\n",
    "        \n",
    "for i in df.index.values:\n",
    "    if 'Vinyl' in df['exteriormaterial'][i]:\n",
    "        df.loc[i, 'exteriormaterial'] = 'Vinyl'\n",
    "    if 'Cement / Concrete' in df['exteriormaterial'][i]:\n",
    "        df.loc[i, 'exteriormaterial'] = 'Cement / Concrete'    \n",
    "    if 'Stucco' in df['exteriormaterial'][i]:\n",
    "        df.loc[i, 'exteriormaterial'] = 'Stucco'  \n",
    "    if 'Brick' in df['exteriormaterial'][i]:\n",
    "        df.loc[i, 'exteriormaterial'] = 'Brick'  \n",
    "    if 'Stone' in df['exteriormaterial'][i]:\n",
    "        df.loc[i, 'exteriormaterial'] = 'Stone'  \n",
    "    if 'Metal' in df['exteriormaterial'][i]:\n",
    "        df.loc[i, 'exteriormaterial'] = 'Metal'  \n",
    "    if 'Shingle' in df['exteriormaterial'][i]:\n",
    "        df.loc[i, 'exteriormaterial'] = 'Shingle'\n",
    "    if 'Wood products' in df['exteriormaterial'][i]:\n",
    "        df.loc[i, 'exteriormaterial'] = 'Wood products'  \n",
    "    if 'Composition' in df['exteriormaterial'][i]:\n",
    "        df.loc[i, 'exteriormaterial'] = 'Composition' \n",
    "    if 'Wood' in df['exteriormaterial'][i]:\n",
    "        df.loc[i, 'exteriormaterial'] = 'Wood' \n",
    "        \n",
    "for i in df.index.values:\n",
    "    if 'Carport' in df['parkingtype'][i]:\n",
    "        df.loc[i, 'parkingtype'] = 'Carport'\n",
    "    if 'Garage - Attached' in df['parkingtype'][i]:\n",
    "        df.loc[i, 'parkingtype'] = 'Garage - Attached'\n",
    "    if 'Garage - Detached' in df['parkingtype'][i]:\n",
    "        df.loc[i, 'parkingtype'] = 'Garage - Detached'\n",
    "    if 'Off-street' in df['parkingtype'][i]:\n",
    "        df.loc[i, 'parkingtype'] = 'Off-street'"
   ]
  },
  {
   "cell_type": "code",
   "execution_count": 54,
   "metadata": {
    "collapsed": true
   },
   "outputs": [],
   "source": [
    "#clean up elementary school typos \n",
    "df['elementaryschool'] = df['elementaryschool'].str.lower()\n",
    "df['elementaryschool'] = df['elementaryschool'].str.strip()\n",
    "\n",
    "for i in df.index.values:\n",
    "    if 'school' in df['elementaryschool'][i]:\n",
    "        df.loc[i, 'elementaryschool'] = df.loc[i, 'elementaryschool'].replace('school', '')\n",
    "    if 'elementary' in df['elementaryschool'][i]:\n",
    "        df.loc[i, 'elementaryschool'] = df.loc[i, 'elementaryschool'].replace('elementary', '')\n",
    "    if 'k-8' in df['elementaryschool'][i]:\n",
    "        df.loc[i, 'elementaryschool'] = df.loc[i, 'elementaryschool'].replace('k-8', '')\n",
    "    if 'environmental' in df['elementaryschool'][i]:\n",
    "        df.loc[i, 'elementaryschool'] = df.loc[i, 'elementaryschool'].replace('environmental', 'env')\n",
    "    if 'elementry' in df['elementaryschool'][i]:\n",
    "        df.loc[i, 'elementaryschool'] = df.loc[i, 'elementaryschool'].replace('elementry', 'elementary')\n",
    "    if 'campus' in df['elementaryschool'][i]:\n",
    "        df.loc[i, 'elementaryschool'] = df.loc[i, 'elementaryschool'].replace('campus', '')\n",
    "    if 'hollyrood' in df['elementaryschool'][i]:\n",
    "        df.loc[i, 'elementaryschool'] = df.loc[i, 'elementaryschool'].replace('hollyrood', '')\n",
    "    if 'laurelhust' in df['elementaryschool'][i]:\n",
    "        df.loc[i, 'elementaryschool'] = df.loc[i, 'elementaryschool'].replace('laurelhust', 'laurelhurst')\n",
    "    if 'abernathy' in df['elementaryschool'][i]:\n",
    "        df.loc[i, 'elementaryschool'] = df.loc[i, 'elementaryschool'].replace('abernathy', 'abernethy')\n",
    "    if 'beverly clearly-' in df['elementaryschool'][i]:\n",
    "        df.loc[i, 'elementaryschool'] = df.loc[i, 'elementaryschool'].replace('beverly clearly-', 'beverly cleary')\n",
    "    if 'beverly cleary-' in df['elementaryschool'][i]:\n",
    "        df.loc[i, 'elementaryschool'] = df.loc[i, 'elementaryschool'].replace('beverly cleary-', 'beverly cleary')\n",
    "    if 'laurelhurst ()' in df['elementaryschool'][i]:\n",
    "        df.loc[i, 'elementaryschool'] = df.loc[i, 'elementaryschool'].replace('laurelhurst ()', 'laurelhurst')\n",
    "    if 'laurelhurst k-6 moving to' in df['elementaryschool'][i]:\n",
    "        df.loc[i, 'elementaryschool'] = df.loc[i, 'elementaryschool'].replace('laurelhurst k-6 moving to', 'laurelhurst')\n",
    "    if 'laurelhurst, all saints' in df['elementaryschool'][i]:\n",
    "        df.loc[i, 'elementaryschool'] = df.loc[i, 'elementaryschool'].replace('laurelhurst, all saints', 'laurelhurst') \n",
    "    if 'elem' in df['elementaryschool'][i]:\n",
    "        df.loc[i, 'elementaryschool'] = df.loc[i, 'elementaryschool'].replace('elem', '')\n",
    "    if 'buckman arts magnet' in df['elementaryschool'][i]:\n",
    "        df.loc[i, 'elementaryschool'] = df.loc[i, 'elementaryschool'].replace('buckman arts magnet', 'buckman')\n",
    "    if 'abernethy/winterhaven' in df['elementaryschool'][i]:\n",
    "        df.loc[i, 'elementaryschool'] = df.loc[i, 'elementaryschool'].replace('abernethy/winterhaven', 'abernethy')\n",
    "    if 'boise/eliot' in df['elementaryschool'][i]:\n",
    "        df.loc[i, 'elementaryschool'] = df.loc[i, 'elementaryschool'].replace('boise/eliot', 'boise-eliot')\n",
    "    if 'bridelmile' in df['elementaryschool'][i]:\n",
    "        df.loc[i, 'elementaryschool'] = df.loc[i, 'elementaryschool'].replace('bridelmile', 'bridlemile')\n",
    "    if 'bridelmile' in df['elementaryschool'][i]:\n",
    "        df.loc[i, 'elementaryschool'] = df.loc[i, 'elementaryschool'].replace('bridelmile', 'bridlemile')\n",
    "    if 'bridemile' in df['elementaryschool'][i]:\n",
    "        df.loc[i, 'elementaryschool'] = df.loc[i, 'elementaryschool'].replace('bridemile', 'bridlemile')\n",
    "    if 'humbolt' in df['elementaryschool'][i]:\n",
    "        df.loc[i, 'elementaryschool'] = df.loc[i, 'elementaryschool'].replace('humbolt', 'humboldt')\n",
    "\n",
    "#condense some under-represented elementary schools\n",
    "value_counts = df['elementaryschool'].value_counts() # Specific column \n",
    "to_replace = value_counts[value_counts < 11].index\n",
    "df['elementaryschool'].replace(to_replace, '', inplace=True)\n",
    "\n"
   ]
  },
  {
   "cell_type": "code",
   "execution_count": 56,
   "metadata": {},
   "outputs": [
    {
     "data": {
      "text/plain": [
       "(8275, 24)"
      ]
     },
     "execution_count": 56,
     "metadata": {},
     "output_type": "execute_result"
    }
   ],
   "source": [
    "#save this data set\n",
    "df.to_pickle('single_family_homes.pkl')\n",
    "df.to_csv('single_family_homes.csv')\n",
    "df.shape"
   ]
  },
  {
   "cell_type": "code",
   "execution_count": 57,
   "metadata": {
    "collapsed": true
   },
   "outputs": [],
   "source": [
    "#create a one-hot matrix for categorical variables\n",
    "columns = ['type', 'neighborhood',  'roof', 'parkingtype', 'exteriormaterial', 'heatingsystem', 'coolingsystem', 'architecture', 'elementaryschool']\n",
    "for column in columns:\n",
    "    one_hot_matrix = patsy.dmatrix(column,data=df,return_type='dataframe')\n",
    "    df.drop([column], axis=1, inplace=True)\n",
    "    df = df.join(one_hot_matrix)\n",
    "    del df['Intercept']\n",
    "    \n",
    "#just remember that you need to delete addresses, sale price, and homedescription before you perform regression"
   ]
  },
  {
   "cell_type": "code",
   "execution_count": 58,
   "metadata": {},
   "outputs": [
    {
     "data": {
      "text/plain": [
       "(8275, 206)"
      ]
     },
     "execution_count": 58,
     "metadata": {},
     "output_type": "execute_result"
    }
   ],
   "source": [
    "#save the one-hot data set\n",
    "df.to_pickle('single_family_homes_one_hot.pkl')\n",
    "df.shape"
   ]
  }
 ],
 "metadata": {
  "kernelspec": {
   "display_name": "Python 3",
   "language": "python",
   "name": "python3"
  },
  "language_info": {
   "codemirror_mode": {
    "name": "ipython",
    "version": 3
   },
   "file_extension": ".py",
   "mimetype": "text/x-python",
   "name": "python",
   "nbconvert_exporter": "python",
   "pygments_lexer": "ipython3",
   "version": "3.5.2"
  }
 },
 "nbformat": 4,
 "nbformat_minor": 2
}
